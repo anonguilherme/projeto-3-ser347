{
 "cells": [
  {
   "cell_type": "markdown",
   "metadata": {},
   "source": [
    "# Projeto da Disciplina de Programação\n",
    "**Docentes:** Gilberto Ribeiro de Queiroz, Thales Sehn Körting, Fabiano Morelli.\n",
    "\n",
    "**Discentes:** Guilherme Pereira Cambre Añon, Renan Moreira Covre. \n",
    "\n",
    "<hr style=\"border:2px solid #696969;\">\n",
    "\n"
   ]
  },
  {
   "cell_type": "markdown",
   "metadata": {},
   "source": [
    "# Ferramenta *SPECTRAL*"
   ]
  },
  {
   "cell_type": "markdown",
   "metadata": {},
   "source": [
    "## 1.INTRODUÇÃO.\n",
    "### 1.1.OBJETIVO.\n",
    "Este trabalho consiste em desenvolver uma ferramenta para geração de índices espectrais de maneira automatizada, utilizando imagens provenientes de satélites."
   ]
  },
  {
   "cell_type": "markdown",
   "metadata": {},
   "source": [
    "## 2.MATERIAIS E MÉTODOS.\n",
    "Para a realização desse trabalho foi utilizada a plataforma do *Jupyter Notebook*, com um kernel específico proveniente do *enviroment* com nome de NEOGEO e criado a partir do seguinte código:\n",
    "\n",
    "\"conda create --name neogeo --channel conda-forge python=3.7 numpy pandas matplotlib shapely fiona descartes gdal=3          geopandas ipykernel jupyter\""
   ]
  },
  {
   "cell_type": "code",
   "execution_count": null,
   "metadata": {},
   "outputs": [],
   "source": [
    "# importar biblioteca\n",
    "from osgeo import gdal\n",
    "\n",
    "# importar constantes\n",
    "from gdalconst import *\n",
    "\n",
    "#matplotlib para visualização.\n",
    "import matplotlib.pyplot as plt\n",
    "\n",
    "# informar o uso de exceções\n",
    "gdal.UseExceptions()\n",
    "\n",
    "# mostrar versão instalada\n",
    "print (gdal.__version__)"
   ]
  },
  {
   "cell_type": "code",
   "execution_count": null,
   "metadata": {},
   "outputs": [],
   "source": [
    "#Definindo caminho dos arquivos.\n",
    "\n",
    "red= str(input(\"Qual o diretório da imagem correspondente a banda VERMELHA?Ex:./raster-project/red.tif\"))\n",
    "blue=  str(input(\"Qual o diretório da imagem correspondente a banda AZUL?Ex:./raster-project/blue.tif\"))\n",
    "green=  str(input(\"Qual o diretório da imagem correspondente a banda VERMELHA?Ex:./raster-project/green.tif\"))\n",
    "nir=  str(input(\"Qual o diretório da imagem correspondente a banda INFRAVERMELHA PRÓXIMO?Ex:./raster-project/nir.tif\"))"
   ]
  },
  {
   "cell_type": "code",
   "execution_count": null,
   "metadata": {},
   "outputs": [],
   "source": [
    "# Abrindo arquivos no gdal.\n",
    "try:\n",
    "    red_band = gdal.Open(red, GA_ReadOnly)\n",
    "    blue_band= gdal.Open (blue, GA_ReadOnly)\n",
    "    green_band= gdal.Open (green, GA_ReadOnly)\n",
    "    nir_band= gdal.Open (nir, GA_ReadOnly)\n",
    "    print (\"Arquivos abertos com sucesso!\")\n",
    "except:\n",
    "    print(\"Erro na abertura dos arquivos!\")"
   ]
  },
  {
   "cell_type": "code",
   "execution_count": null,
   "metadata": {},
   "outputs": [],
   "source": [
    "# obtencao dos arrays numpy das bandas\n",
    "array_red = red_band.ReadAsArray().astype(float)\n",
    "array_blue = blue_band.ReadAsArray().astype(float)\n",
    "array_green = green_band.ReadAsArray().astype(float)\n",
    "array_nir = nir_band.ReadAsArray().astype(float)"
   ]
  },
  {
   "cell_type": "code",
   "execution_count": null,
   "metadata": {},
   "outputs": [],
   "source": [
    "#Verificar o tamanho das bandas\n",
    "print(array_red.shape)\n",
    "print(array_blue.shape)\n",
    "print(array_green.shape)\n",
    "print(array_nir.shape)"
   ]
  },
  {
   "cell_type": "code",
   "execution_count": null,
   "metadata": {},
   "outputs": [],
   "source": [
    "# para visualizar as bandas como imagens\n",
    "\n",
    "#plt.plot(array_red)\n",
    "plt.title(\"Banda RED\")\n",
    "plt.imshow(array_red, cmap='Reds')"
   ]
  },
  {
   "cell_type": "code",
   "execution_count": null,
   "metadata": {},
   "outputs": [],
   "source": [
    "#plt.plot(array_blue)\n",
    "plt.title(\"Banda BLUE\")\n",
    "plt.imshow(array_blue, cmap='Blues')"
   ]
  },
  {
   "cell_type": "code",
   "execution_count": null,
   "metadata": {},
   "outputs": [],
   "source": [
    "#plt.plot(array_green)\n",
    "plt.title(\"Banda GREEN\")\n",
    "plt.imshow(array_green, cmap='Greens')"
   ]
  },
  {
   "cell_type": "code",
   "execution_count": null,
   "metadata": {},
   "outputs": [],
   "source": [
    "#plt.plot(array_nir)\n",
    "plt.title(\"Banda NIR\")\n",
    "plt.imshow(array_nir, cmap='Greys')"
   ]
  },
  {
   "cell_type": "code",
   "execution_count": null,
   "metadata": {},
   "outputs": [],
   "source": [
    "# geracao de array do indice NDVI derivado das bandas\n",
    "array_ndvi = (array_nir - array_red) / (array_nir + array_red + 0.000000001)\n",
    "# mostrar dimensoes da matriz de saida\n",
    "print(array_ndvi.shape)"
   ]
  },
  {
   "cell_type": "code",
   "execution_count": null,
   "metadata": {},
   "outputs": [],
   "source": [
    "plt.figure(figsize=(16, 8))\n",
    "\n",
    "plt.subplot(131)\n",
    "plt.title(\"Banda RED\")\n",
    "plt.imshow(array_red, cmap='gray');\n",
    "\n",
    "plt.subplot(132)\n",
    "plt.title(\"Banda NIR\")\n",
    "plt.imshow(array_nir, cmap='gray');\n",
    "\n",
    "plt.subplot(133)\n",
    "plt.title(\"NDVI\")\n",
    "plt.imshow(array_ndvi, cmap='RdYlGn', vmin=-1.0, vmax=1.0);"
   ]
  },
  {
   "cell_type": "code",
   "execution_count": null,
   "metadata": {},
   "outputs": [],
   "source": [
    "# geracao de array do indice EVI derivado das bandas\n",
    "\n",
    "#Qual será o valor das variáveis?\n",
    "g_evi = float(input(\"Qual valor será adotado para G?(2.5)\"))\n",
    "c1_evi = float(input(\"Qual valor será adotado para C1?(6)\"))\n",
    "c2_evi= float(input(\"Qual valor será adotado para C2?(7.5)\"))\n",
    "\n",
    "#Fórmula de EVI\n",
    "evi = (array_nir - array_red)/(array_nir + (c1_evi*array_red) - (c2_evi*array_blue +1) + 0.00000001)\n",
    "array_evi = g_evi *evi\n",
    "\n",
    "# mostrar dimensoes da matriz de saida\n",
    "print(array_evi.shape)"
   ]
  },
  {
   "cell_type": "code",
   "execution_count": null,
   "metadata": {},
   "outputs": [],
   "source": [
    "plt.figure(figsize=(16,16))\n",
    "\n",
    "plt.subplot(221)\n",
    "plt.title(\"Banda NIR\")\n",
    "plt.imshow(array_nir, cmap='gray');\n",
    "\n",
    "plt.subplot(222)\n",
    "plt.title(\"Banda RED\")\n",
    "plt.imshow(array_red, cmap='gray');\n",
    "\n",
    "plt.subplot(223)\n",
    "plt.title(\"Banda BLUE\")\n",
    "plt.imshow(array_blue, cmap='gray');\n",
    "\n",
    "plt.subplot(224)\n",
    "plt.title(\"EVI\")\n",
    "plt.imshow(array_evi, cmap='RdYlGn', vmin=-1.0, vmax=1.0);"
   ]
  },
  {
   "cell_type": "code",
   "execution_count": null,
   "metadata": {},
   "outputs": [],
   "source": [
    "#Geracao de array do indice SAVI derivado das bandas\n",
    "\n",
    "#Qual será o valor de l?\n",
    "l_savi = float(input(\"Qual valor será adotado para L?\"))\n",
    "\n",
    "Fórmula SAVI\n",
    "array_savi = (1+l_savi)*(array_nir-array_red)/(array_nir + array_red + l_savi)\n",
    "# mostrar dimensoes da matriz de saida\n",
    "print(array_savi.shape)"
   ]
  },
  {
   "cell_type": "code",
   "execution_count": null,
   "metadata": {},
   "outputs": [],
   "source": [
    "plt.figure(figsize=(16, 8))\n",
    "\n",
    "plt.subplot(131)\n",
    "plt.title(\"Banda RED\")\n",
    "plt.imshow(array_red, cmap='gray');\n",
    "\n",
    "plt.subplot(132)\n",
    "plt.title(\"Banda NIR\")\n",
    "plt.imshow(array_nir, cmap='gray');\n",
    "\n",
    "plt.subplot(133)\n",
    "plt.title(\"SAVI\")\n",
    "plt.imshow(array_savi, cmap='RdYlGn', vmin=-1.0, vmax=1.0);"
   ]
  },
  {
   "cell_type": "code",
   "execution_count": null,
   "metadata": {},
   "outputs": [],
   "source": [
    "x = input(\"Qual indice deseja calcular?\")"
   ]
  },
  {
   "cell_type": "code",
   "execution_count": null,
   "metadata": {},
   "outputs": [],
   "source": []
  }
 ],
 "metadata": {
  "kernelspec": {
   "display_name": "Python (NeoGeo)",
   "language": "python",
   "name": "neogeo"
  },
  "language_info": {
   "codemirror_mode": {
    "name": "ipython",
    "version": 3
   },
   "file_extension": ".py",
   "mimetype": "text/x-python",
   "name": "python",
   "nbconvert_exporter": "python",
   "pygments_lexer": "ipython3",
   "version": "3.7.6"
  }
 },
 "nbformat": 4,
 "nbformat_minor": 4
}
